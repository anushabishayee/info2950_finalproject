{
 "cells": [
  {
   "cell_type": "markdown",
   "metadata": {},
   "source": [
    "# Phase 2 \n",
    "#### Group Members: Anusha Bishayee, Katheryn Ding, Phoebe Wang, Kaiwen Zhou"
   ]
  },
  {
   "cell_type": "markdown",
   "metadata": {},
   "source": [
    "---\n",
    "\n",
    "### Research Question:  \n",
    "\n",
    "#### How do ESG performance and stock performance correlate across industries? What associations can we find between company industry, stock performance, and ESG rating?\n",
    "\n"
   ]
  },
  {
   "cell_type": "markdown",
   "metadata": {},
   "source": [
    "---\n",
    "\n",
    "### Data Description\n",
    "\n",
    "This dataset contains ESG (Environmental, Social, and Governance) scores for 722 publicly traded companies, and represents a variety of different industries. Each row represents an individual company. The 21 columns include a CIK identifier, last processing date of the ESG data, company information (currency, logo/website URLs), environmental scores and ratings, social scores and ratings, governance scores and ratings, and overall ESG scores and ratings. We can combine this dataset with the Yahoo! Finance library in Python (yfinance, maintained by Ran Aroussi) to investigate if a company’s ESG score impacts its stock performance over time (time-series analysis): pypi.org/project/yfinance/. We do not intend to scrape data ourselves, but plan to utilize the yfinance library, which downloads market data from the Yahoo! Finance API, and appears to be free to use. We also will most likely filter this dataset from all 722 companies to just a few major companies of interest from select industries. Overall, our research question may be along the lines of “How do ESG ratings influence stock performance?” or “Do companies with high environmental ratings show less stock price volatility?”\n",
    "\n",
    "\n",
    "We are using data from a Kaggle csv, and joining this to the yfinance library. First, we downloaded the ESG Kaggle csv, where each row corresponds to a different publicly traded company; this also contains ESG metrics for each company. We have filtered this dataset to only include companies that are traded in USD, and the columns all refer to a specific aspect of the company, such as industry, name, stock close/open/high/low prices, and ESG rating indexes. Then, we join this data to the yfinance library (Yahoo Finance) - from yfinance, we take the stock closing price of the company on 4/1/21 and 4/1/22. We also created a % Change variable, which measures the percentage change in the company stock closing price over the 2 years. All of this information is included in our large dataset - so the columns are company stock ticker, company name, currency, exchange, industry, logo, web url, environment grade, environment level, social grade, governance grade, governance level, environmental score, social score, governance score, total score, last processing date, total grade, total level, central index key, stock closing price in 4/1/21, stock closing price in 4/1/22, and the percent change between these. Our smaller dataset is meant to be a 'sample' of the original dataset with 722 rows, and involves a few companies that we hand-picked by notability. It contains all of the same columns, but only contains 23 companies. \n",
    "\n",
    "Our dataframes were created to show different stock prices of various companies over different date ranges, and the original ESG company data was created to compile ESG information for 700 mid / large-cap companies across various industries. Our combined dataframes was made to contrast both stock prices and ESG ratings of companies, and explore any associations. The original ESG company dataset was 'funded' by the efforts of Kaggle user Alistair King, and the yfinance dataset was created by Ran Aroussi as a way around the recent-ish Yahoo Finance API deprecation. For the ESG rating dataset, only mid/large-cap companies are included, so this influences the specific companies that are present in the dataset (the data that was observed and recorded) -- smaller companies will not be 'observed' here. \n",
    "\n",
    "The preprocessing was described above; we filtered our 722 row dataset for NaNs for our large dataset, and then for our sample dataset, we filtered all 722 companies down to 23 of interest, and joined all data to the yfinance library. Specifically, for each company, we acquired the stock closing price for 4/1/21 and 4/1/24, then created a stock change percentage variable between these two dates. \n",
    "\n",
    "Individuals are not involved in the data directly, as each observation corresponds to an entire company.\n",
    "\n",
    "Our raw source data can be found in the yfinance library and https://www.kaggle.com/datasets/alistairking/public-company-esg-ratings-dataset/data, and the specific csv is here: https://github.com/phoebewang28/info-2950-project/blob/main/esg_data.csv. \n",
    "\n",
    "\n"
   ]
  },
  {
   "cell_type": "markdown",
   "metadata": {},
   "source": [
    "---\n",
    "\n",
    "### Data Limitations\n",
    "    \n",
    "1. For our smaller dataset, the current sample of 23 companies was chosen manually by us as we wanted to get a range of industries that are well-known. This is limited to the companies that only use USD, and again, this data only records large/mid-cap companies, so this selection may not be fully representative of all US companies with ESG ratings. Depending on the results of of our analyses, we may consider random sampling or expanding the sample size to improve representativeness of our sample dataset.\n",
    "\n",
    "2. We are currently comparing the rate of change of the sample stocks to the S&P 500, but other measures of stock performance might provide more valuable insights. For now, we are focusing on the rate of change between the closing prices of 4/1/21 and 4/1/22. \n",
    "\n",
    "3. Some stock data from yfinance is missing date information, which causes missing values when extracting prices. One company in our sample had this issue, so we had to exclude it to ensure consistency.\n",
    "\n",
    "4. Since we are exploring potential connections between ESG ratings and company stock performance, we may need to sample not only by industry but also by ESG rating levels to ensure a more balanced and comprehensive analysis of the different ESG performance tiers (for our sample dataset)\n",
    "\n",
    "5. ESG is a constent value retrieved from different days for each company in the month of April, 2022, while stock prices for these companies changes over time. We're unable to perform time-series analysis on ESG rating and stock informations due to the fact. \n",
    "\n",
    "6. ESG is evaluated annually, which might not be accuratly tracking the actual environmental performance of the company. Thus, when considering short-term impact of the company's esg policies, it's likely for that policy change to affect stock but not reflected on company's ESG rating."
   ]
  },
  {
   "cell_type": "markdown",
   "metadata": {},
   "source": [
    "---\n",
    "\n",
    "### Data Collection and Cleaning"
   ]
  },
  {
   "cell_type": "code",
   "execution_count": 14,
   "metadata": {},
   "outputs": [],
   "source": [
    "import matplotlib.pyplot as plt\n",
    "import numpy as np\n",
    "import pandas as pd\n",
    "import seaborn as sns\n",
    "from scipy import stats\n",
    "from sklearn.linear_model import LinearRegression\n",
    "import warnings\n",
    "import yfinance as yf\n",
    "\n",
    "import os\n",
    "import sys\n",
    "import contextlib"
   ]
  },
  {
   "cell_type": "markdown",
   "metadata": {},
   "source": [
    "filtering for just USD (not CNY or other currencies)"
   ]
  },
  {
   "cell_type": "code",
   "execution_count": 17,
   "metadata": {},
   "outputs": [
    {
     "name": "stdout",
     "output_type": "stream",
     "text": [
      "(722, 21)\n",
      "(704, 21)\n",
      "  ticker                           name currency  \\\n",
      "0    dis                 Walt Disney Co      USD   \n",
      "1     gm              General Motors Co      USD   \n",
      "2    gww                WW Grainger Inc      USD   \n",
      "3    mhk          Mohawk Industries Inc      USD   \n",
      "4    lyv  Live Nation Entertainment Inc      USD   \n",
      "\n",
      "                        exchange                            industry  \\\n",
      "0  NEW YORK STOCK EXCHANGE, INC.                               Media   \n",
      "1  NEW YORK STOCK EXCHANGE, INC.                         Automobiles   \n",
      "2  NEW YORK STOCK EXCHANGE, INC.  Trading Companies and Distributors   \n",
      "3  NEW YORK STOCK EXCHANGE, INC.                   Consumer products   \n",
      "4  NEW YORK STOCK EXCHANGE, INC.                               Media   \n",
      "\n",
      "                                                logo  \\\n",
      "0  https://static.finnhub.io/logo/ef50b4a2b263c84...   \n",
      "1  https://static.finnhub.io/logo/9253db78-80c9-1...   \n",
      "2  https://static.finnhub.io/logo/f153dcda-80eb-1...   \n",
      "3  https://static.finnhub.io/logo/26868a62-80ec-1...   \n",
      "4  https://static.finnhub.io/logo/1cd144d2-80ec-1...   \n",
      "\n",
      "                                     weburl environment_grade  \\\n",
      "0         https://thewaltdisneycompany.com/                 A   \n",
      "1                       https://www.gm.com/                 A   \n",
      "2                 https://www.grainger.com/                 B   \n",
      "3                    https://mohawkind.com/                 A   \n",
      "4  https://www.livenationentertainment.com/               BBB   \n",
      "\n",
      "  environment_level social_grade  ... governance_grade governance_level  \\\n",
      "0              High           BB  ...               BB           Medium   \n",
      "1              High           BB  ...                B           Medium   \n",
      "2            Medium           BB  ...                B           Medium   \n",
      "3              High            B  ...               BB           Medium   \n",
      "4              High           BB  ...                B           Medium   \n",
      "\n",
      "  environment_score  social_score  governance_score  total_score  \\\n",
      "0               510           316               321         1147   \n",
      "1               510           303               255         1068   \n",
      "2               255           385               240          880   \n",
      "3               570           298               303         1171   \n",
      "4               492           310               250         1052   \n",
      "\n",
      "   last_processing_date total_grade total_level      cik  \n",
      "0            19-04-2022         BBB        High  1744489  \n",
      "1            17-04-2022         BBB        High  1467858  \n",
      "2            19-04-2022          BB      Medium   277135  \n",
      "3            18-04-2022         BBB        High   851968  \n",
      "4            18-04-2022         BBB        High  1335258  \n",
      "\n",
      "[5 rows x 21 columns]\n",
      "(704, 21)\n"
     ]
    }
   ],
   "source": [
    "esg = pd.read_csv(\"esg_data.csv\")\n",
    "print(esg.shape)\n",
    "esg = esg[esg[\"currency\"] == \"USD\"]\n",
    "print(esg.shape)\n",
    "\n",
    "print(esg.head())\n"
   ]
  },
  {
   "cell_type": "code",
   "execution_count": 7,
   "metadata": {},
   "outputs": [
    {
     "name": "stdout",
     "output_type": "stream",
     "text": [
      "  ticker                           name currency  \\\n",
      "0    dis                 Walt Disney Co      USD   \n",
      "1     gm              General Motors Co      USD   \n",
      "2    gww                WW Grainger Inc      USD   \n",
      "3    mhk          Mohawk Industries Inc      USD   \n",
      "4    lyv  Live Nation Entertainment Inc      USD   \n",
      "\n",
      "                        exchange                            industry  \\\n",
      "0  NEW YORK STOCK EXCHANGE, INC.                               Media   \n",
      "1  NEW YORK STOCK EXCHANGE, INC.                         Automobiles   \n",
      "2  NEW YORK STOCK EXCHANGE, INC.  Trading Companies and Distributors   \n",
      "3  NEW YORK STOCK EXCHANGE, INC.                   Consumer products   \n",
      "4  NEW YORK STOCK EXCHANGE, INC.                               Media   \n",
      "\n",
      "                                                logo  \\\n",
      "0  https://static.finnhub.io/logo/ef50b4a2b263c84...   \n",
      "1  https://static.finnhub.io/logo/9253db78-80c9-1...   \n",
      "2  https://static.finnhub.io/logo/f153dcda-80eb-1...   \n",
      "3  https://static.finnhub.io/logo/26868a62-80ec-1...   \n",
      "4  https://static.finnhub.io/logo/1cd144d2-80ec-1...   \n",
      "\n",
      "                                     weburl environment_grade  \\\n",
      "0         https://thewaltdisneycompany.com/                 A   \n",
      "1                       https://www.gm.com/                 A   \n",
      "2                 https://www.grainger.com/                 B   \n",
      "3                    https://mohawkind.com/                 A   \n",
      "4  https://www.livenationentertainment.com/               BBB   \n",
      "\n",
      "  environment_level social_grade  ... governance_score total_score  \\\n",
      "0              High           BB  ...              321        1147   \n",
      "1              High           BB  ...              255        1068   \n",
      "2            Medium           BB  ...              240         880   \n",
      "3              High            B  ...              303        1171   \n",
      "4              High           BB  ...              250        1052   \n",
      "\n",
      "  last_processing_date  total_grade  total_level      cik  percentage_change  \\\n",
      "0           19-04-2022          BBB         High  1744489         -27.417049   \n",
      "1           17-04-2022          BBB         High  1467858         -24.325256   \n",
      "2           19-04-2022           BB       Medium   277135          26.932440   \n",
      "3           18-04-2022          BBB         High   851968         -37.361308   \n",
      "4           18-04-2022          BBB         High  1335258          33.575565   \n",
      "\n",
      "  volatility  50_day_SMA cumulative_return  \n",
      "0   0.015608  141.972600         -0.274170  \n",
      "1   0.024031   47.186600         -0.243253  \n",
      "2   0.013564  488.285799          0.269324  \n",
      "3   0.023817  143.736800         -0.373613  \n",
      "4   0.027222  113.569200          0.335756  \n",
      "\n",
      "[5 rows x 25 columns]\n"
     ]
    }
   ],
   "source": [
    "@contextlib.contextmanager\n",
    "def suppress_output():\n",
    "    with open(os.devnull, 'w') as devnull:\n",
    "        old_stdout = sys.stdout\n",
    "        old_stderr = sys.stderr\n",
    "        sys.stdout = devnull\n",
    "        sys.stderr = devnull\n",
    "        try:\n",
    "            yield\n",
    "        finally:\n",
    "            sys.stdout = old_stdout\n",
    "            sys.stderr = old_stderr\n",
    "\n",
    "tickers = esg['ticker'].tolist()\n",
    "\n",
    "stock_data = []\n",
    "\n",
    "for ticker in tickers:\n",
    "    try:\n",
    "        # Suppress progress output with progress=False\n",
    "        with suppress_output():  # Suppress all output during download\n",
    "            stock = yf.download(ticker, start=\"2021-04-01\", end=\"2022-04-01\", progress=False)\n",
    "        \n",
    "        if not stock.empty:\n",
    "            # Calculate percentage change using iloc to access positions\n",
    "            percentage_change = ((stock['Close'].iloc[-1] - stock['Close'].iloc[0]) / stock['Close'].iloc[0]) * 100\n",
    "            \n",
    "            # Calculate volatility (std dev of daily returns)\n",
    "            daily_returns = stock['Close'].pct_change()\n",
    "            volatility = daily_returns.std()\n",
    "            \n",
    "            # Calculate 50-day moving average\n",
    "            stock['50_day_SMA'] = stock['Close'].rolling(window=50).mean()\n",
    "            sma_50_day = stock['50_day_SMA'].iloc[-1]\n",
    "            \n",
    "            # Calculate cumulative return using iloc\n",
    "            cumulative_return = (stock['Close'].iloc[-1] / stock['Close'].iloc[0]) - 1\n",
    "            \n",
    "            # Append the data\n",
    "            stock_data.append({\n",
    "                'ticker': ticker, \n",
    "                'percentage_change': percentage_change,\n",
    "                'volatility': volatility,\n",
    "                '50_day_SMA': sma_50_day,\n",
    "                'cumulative_return': cumulative_return\n",
    "            })\n",
    "    \n",
    "    except (yf.YFTzMissingError, yf.YFPricesMissingError):\n",
    "        pass \n",
    "\n",
    "# Convert stock data to DataFrame\n",
    "stock_df = pd.DataFrame(stock_data)\n",
    "\n",
    "# Merge stock data with ESG data\n",
    "merged_df = esg.merge(stock_df, on='ticker', how='left')\n",
    "\n",
    "print(merged_df.head())"
   ]
  },
  {
   "cell_type": "code",
   "execution_count": 16,
   "metadata": {},
   "outputs": [
    {
     "name": "stdout",
     "output_type": "stream",
     "text": [
      "(620, 25)\n",
      "(620, 25)\n",
      "<bound method NDFrame.head of     ticker                           name currency  \\\n",
      "0      dis                 Walt Disney Co      USD   \n",
      "1       gm              General Motors Co      USD   \n",
      "2      gww                WW Grainger Inc      USD   \n",
      "3      mhk          Mohawk Industries Inc      USD   \n",
      "4      lyv  Live Nation Entertainment Inc      USD   \n",
      "..     ...                            ...      ...   \n",
      "698    hgv     Hilton Grand Vacations Inc      USD   \n",
      "699     hi                Hillenbrand Inc      USD   \n",
      "701   hubs                    HubSpot Inc      USD   \n",
      "702   hesm              Hess Midstream LP      USD   \n",
      "703    hei                     HEICO Corp      USD   \n",
      "\n",
      "                          exchange                            industry  \\\n",
      "0    NEW YORK STOCK EXCHANGE, INC.                               Media   \n",
      "1    NEW YORK STOCK EXCHANGE, INC.                         Automobiles   \n",
      "2    NEW YORK STOCK EXCHANGE, INC.  Trading Companies and Distributors   \n",
      "3    NEW YORK STOCK EXCHANGE, INC.                   Consumer products   \n",
      "4    NEW YORK STOCK EXCHANGE, INC.                               Media   \n",
      "..                             ...                                 ...   \n",
      "698  NEW YORK STOCK EXCHANGE, INC.       Hotels, Restaurants & Leisure   \n",
      "699  NEW YORK STOCK EXCHANGE, INC.                           Machinery   \n",
      "701  NEW YORK STOCK EXCHANGE, INC.                          Technology   \n",
      "702  NEW YORK STOCK EXCHANGE, INC.                             Energy    \n",
      "703  NEW YORK STOCK EXCHANGE, INC.                 Aerospace & Defense   \n",
      "\n",
      "                                                  logo  \\\n",
      "0    https://static.finnhub.io/logo/ef50b4a2b263c84...   \n",
      "1    https://static.finnhub.io/logo/9253db78-80c9-1...   \n",
      "2    https://static.finnhub.io/logo/f153dcda-80eb-1...   \n",
      "3    https://static.finnhub.io/logo/26868a62-80ec-1...   \n",
      "4    https://static.finnhub.io/logo/1cd144d2-80ec-1...   \n",
      "..                                                 ...   \n",
      "698  https://static.finnhub.io/logo/e51af146-80db-1...   \n",
      "699  https://static.finnhub.io/logo/f56bfd2c-80eb-1...   \n",
      "701  https://static.finnhub.io/logo/62f8c2fa-80d0-1...   \n",
      "702  https://static.finnhub.io/logo/3a3f1306ad581fe...   \n",
      "703  https://static.finnhub.io/logo/f461d852-80eb-1...   \n",
      "\n",
      "                                       weburl environment_grade  \\\n",
      "0           https://thewaltdisneycompany.com/                 A   \n",
      "1                         https://www.gm.com/                 A   \n",
      "2                   https://www.grainger.com/                 B   \n",
      "3                      https://mohawkind.com/                 A   \n",
      "4    https://www.livenationentertainment.com/               BBB   \n",
      "..                                        ...               ...   \n",
      "698     https://www.hiltongrandvacations.com/                BB   \n",
      "699              https://www.hillenbrand.com/               BBB   \n",
      "701                  https://www.hubspot.com/               BBB   \n",
      "702            https://www.hessmidstream.com/                BB   \n",
      "703                    https://www.heico.com/                 B   \n",
      "\n",
      "    environment_level social_grade  ... governance_score total_score  \\\n",
      "0                High           BB  ...              321        1147   \n",
      "1                High           BB  ...              255        1068   \n",
      "2              Medium           BB  ...              240         880   \n",
      "3                High            B  ...              303        1171   \n",
      "4                High           BB  ...              250        1052   \n",
      "..                ...          ...  ...              ...         ...   \n",
      "698            Medium            B  ...              250         843   \n",
      "699              High           BB  ...              300        1138   \n",
      "701              High           BB  ...              320        1129   \n",
      "702            Medium            B  ...              255         819   \n",
      "703            Medium            B  ...              205         633   \n",
      "\n",
      "    last_processing_date  total_grade  total_level      cik  \\\n",
      "0             19-04-2022          BBB         High  1744489   \n",
      "1             17-04-2022          BBB         High  1467858   \n",
      "2             19-04-2022           BB       Medium   277135   \n",
      "3             18-04-2022          BBB         High   851968   \n",
      "4             18-04-2022          BBB         High  1335258   \n",
      "..                   ...          ...          ...      ...   \n",
      "698           15-11-2022           BB       Medium  1674168   \n",
      "699           07-11-2022          BBB         High  1417398   \n",
      "701           07-11-2022          BBB         High  1404655   \n",
      "702           15-11-2022           BB       Medium  1789832   \n",
      "703           07-11-2022            B       Medium    46619   \n",
      "\n",
      "     percentage_change volatility  50_day_SMA cumulative_return  \n",
      "0           -27.417049   0.015608  141.972600         -0.274170  \n",
      "1           -24.325256   0.024031   47.186600         -0.243253  \n",
      "2            26.932440   0.013564  488.285799          0.269324  \n",
      "3           -37.361308   0.023817  143.736800         -0.373613  \n",
      "4            33.575565   0.027222  113.569200          0.335756  \n",
      "..                 ...        ...         ...               ...  \n",
      "698          36.868417   0.023767   50.013600          0.368684  \n",
      "699          -8.436989   0.018508   46.337400         -0.084370  \n",
      "701          -2.245550   0.035215  478.276600         -0.022455  \n",
      "702          27.768316   0.020560   30.479800          0.277683  \n",
      "703          19.971862   0.015731  144.488200          0.199719  \n",
      "\n",
      "[620 rows x 25 columns]>\n"
     ]
    }
   ],
   "source": [
    "print(merged_df.shape)"
   ]
  },
  {
   "cell_type": "code",
   "execution_count": null,
   "metadata": {},
   "outputs": [
    {
     "name": "stderr",
     "output_type": "stream",
     "text": [
      "[*********************100%***********************]  1 of 1 completed"
     ]
    },
    {
     "name": "stdout",
     "output_type": "stream",
     "text": [
      "            Start Price    End Price  Rate of Change (%)\n",
      "Date                                                    \n",
      "2021-04-01  3992.780029  4019.870117            0.678477\n",
      "2021-04-05  4034.439941  4077.909912            1.077472\n",
      "2021-04-06  4075.570068  4073.939941           -0.039998\n",
      "2021-04-07  4074.290039  4079.949951            0.138918\n",
      "2021-04-08  4089.949951  4097.169922            0.176530\n",
      "...                 ...          ...                 ...\n",
      "2022-03-25  4522.910156  4543.060059            0.445507\n",
      "2022-03-28  4541.089844  4575.520020            0.758192\n",
      "2022-03-29  4602.859863  4631.600098            0.624400\n",
      "2022-03-30  4624.200195  4602.450195           -0.470352\n",
      "2022-03-31  4599.020020  4530.410156           -1.491837\n",
      "\n",
      "[253 rows x 3 columns]\n"
     ]
    },
    {
     "name": "stderr",
     "output_type": "stream",
     "text": [
      "\n"
     ]
    }
   ],
   "source": [
    "#Extract S&P 500 rate\n",
    "sp500_data = yf.download('^GSPC', start='2021-04-01',end='2022-04-01')\n",
    "sp500_df = pd.DataFrame({\n",
    "    'Date': sp500_data.index,\n",
    "    'Start Price': sp500_data['Open'],\n",
    "    'End Price': sp500_data['Close'],\n",
    "    'Rate of Change (%)': ((sp500_data['Close'] - sp500_data['Open']) / sp500_data['Open']) * 100\n",
    "})\n",
    "\n",
    "sp500_df.set_index('Date', inplace=True)\n",
    "print(sp500_df)"
   ]
  },
  {
   "cell_type": "markdown",
   "metadata": {},
   "source": [
    "mess"
   ]
  },
  {
   "cell_type": "code",
   "execution_count": null,
   "metadata": {},
   "outputs": [],
   "source": [
    "#use yfinance to pull stock information of selected stocks.\n",
    "esg.loc[:, 'ticker'] = esg['ticker'].astype(str)\n",
    "esg.loc[:, 'name'] = esg['name'].astype(str)\n",
    "tickers = esg['ticker'].tolist()\n",
    "\n",
    "#Add Start Price, End Price, and Rate of Change (%) of each company to the dataset esg\n",
    "esg.loc[:, 'Start Price'] = None\n",
    "esg.loc[:, 'End Price'] = None\n",
    "esg.loc[:, 'Rate of Change (%)'] = None\n",
    "\n",
    "# Loop through each row of the DataFrame to get stock information for each company\n",
    "for index, row in esg.iterrows():\n",
    "    ticker = row['ticker']\n",
    "    \n",
    "    # Download stock data for 2023\n",
    "    data = yf.download(ticker, start='2021-04-01',end='2022-04-01')\n",
    "    \n",
    "    # Ensure data exists for the given period\n",
    "    if not data.empty:\n",
    "        start_price = data['Adj Close'].iloc[0]\n",
    "        end_price = data['Adj Close'].iloc[-1]\n",
    "        rate_of_change = ((end_price - start_price) / start_price) * 100\n",
    "        \n",
    "        # Add the stock data to the relevant columns in the DataFrame using .loc[]\n",
    "        esg.loc[index, 'Start Price'] = start_price\n",
    "        esg.loc[index, 'End Price'] = end_price\n",
    "        esg.loc[index, 'Rate of Change (%)'] = rate_of_change\n",
    "\n",
    "print(esg)"
   ]
  },
  {
   "cell_type": "code",
   "execution_count": null,
   "metadata": {},
   "outputs": [],
   "source": [
    "#cleaning to only have certain companies that represent a variety of industries\n",
    "\n",
    "companies = [\"Walt Disney Co\", \"American Airlines Group Inc\", \"Apple Inc\", \"eBay Inc\", \"Goldman Sachs Group Inc\", \n",
    "             \"Meta Platforms Inc\", \"Starbucks Corp\", \"PayPal Holdings Inc\", \"United Airlines Holdings Inc\", \n",
    "             \"Bath & Body Works Inc\", \"Abbvie Inc\", \"Alexandria Real Estate Equities Inc\", \n",
    "             \"Becton Dickinson and Co\", \"Brown & Brown Inc\", \"Duke Energy Corp\", \"T-Mobile US Inc\",\n",
    "             \"Marathon Oil Corp\", \"Chipotle Mexican Grill Inc\", \"Target Corp\", \n",
    "             \"General Motors Co\", \"Salesforce Inc\", \"Tesla Inc\", \"Bank of America Corp\"]\n",
    "\n",
    "relevant_esg = esg[esg[\"name\"].isin(companies)]\n",
    "print(relevant_esg)"
   ]
  },
  {
   "cell_type": "code",
   "execution_count": null,
   "metadata": {},
   "outputs": [],
   "source": [
    "#use yfinance to pull stock information of selected stocks.\n",
    "relevant_esg.loc[:, 'ticker'] = relevant_esg['ticker'].astype(str)\n",
    "relevant_esg.loc[:, 'name'] = relevant_esg['name'].astype(str)\n",
    "tickers = relevant_esg['ticker'].tolist()\n",
    "#Add Start Price, End Price, and Rate of Change (%) of each company to the dataset relevent.esg\n",
    "relevant_esg.loc[:, 'Start Price'] = None\n",
    "relevant_esg.loc[:, 'End Price'] = None\n",
    "relevant_esg.loc[:, 'Rate of Change (%)'] = None\n",
    "\n",
    "# Loop through each row of the DataFrame to get stock information for each company\n",
    "for index, row in relevant_esg.iterrows():\n",
    "    ticker = row['ticker']\n",
    "    \n",
    "    # Download stock data for 2023\n",
    "    data = yf.download(ticker, start='2021-04-01',end='2022-04-01')\n",
    "    \n",
    "    # Ensure data exists for the given period\n",
    "    if not data.empty:\n",
    "        start_price = data['Adj Close'].iloc[0]\n",
    "        end_price = data['Adj Close'].iloc[-1]\n",
    "        rate_of_change = ((end_price - start_price) / start_price) * 100\n",
    "        \n",
    "        # Add the stock data to the relevant columns in the DataFrame using .loc[]\n",
    "        relevant_esg.loc[index, 'Start Price'] = start_price\n",
    "        relevant_esg.loc[index, 'End Price'] = end_price\n",
    "        relevant_esg.loc[index, 'Rate of Change (%)'] = rate_of_change\n",
    "\n",
    "print(relevant_esg)\n"
   ]
  },
  {
   "cell_type": "code",
   "execution_count": null,
   "metadata": {},
   "outputs": [],
   "source": [
    "#Add Start Price, End Price, and Rate of Change (%) of each company to the dataset esg\n",
    "esg.loc[:, 'ticker'] = esg['ticker'].astype(str)\n",
    "esg.loc[:, 'name'] = esg['name'].astype(str)\n",
    "tickers = esg['ticker'].tolist()\n",
    "\n",
    "# Add columns for Start Price, End Price, and Rate of Change (%)\n",
    "esg['Start Price'] = None\n",
    "esg['End Price'] = None\n",
    "esg['Rate of Change (%)'] = None\n",
    "\n",
    "# Loop through each row of the DataFrame to get stock information for each company\n",
    "for index, row in esg.iterrows():\n",
    "    ticker = row['ticker']\n",
    "    \n",
    "    # Skip rows where the ticker is not valid\n",
    "    if ticker == 'nan' or ticker.strip() == \"\":\n",
    "        continue\n",
    "    \n",
    "    # Download stock data for the given ticker\n",
    "    data = yf.download(ticker, start='2021-04-01', end='2022-04-01')\n",
    "    \n",
    "    # Ensure data exists for the given period\n",
    "    if not data.empty:\n",
    "        start_price = data['Adj Close'].iloc[0]\n",
    "        end_price = data['Adj Close'].iloc[-1]\n",
    "        rate_of_change = ((end_price - start_price) / start_price) * 100\n",
    "        \n",
    "        # Add the stock data to the relevant columns in the DataFrame\n",
    "        esg.loc[index, 'Start Price'] = start_price\n",
    "        esg.loc[index, 'End Price'] = end_price\n",
    "        esg.loc[index, 'Rate of Change (%)'] = rate_of_change\n",
    "\n",
    "#Remove companies with missing value on stock information:\n",
    "esg.dropna(subset=['Start Price', 'End Price', 'Rate of Change (%)'], inplace=True)\n",
    "\n",
    "#show the first 15 rows of cleaned esg\n",
    "print(esg.iloc[0:15,:])"
   ]
  },
  {
   "cell_type": "markdown",
   "metadata": {},
   "source": [
    "---\n",
    "\n",
    "### Exploratory Data Analysis"
   ]
  },
  {
   "cell_type": "markdown",
   "metadata": {},
   "source": [
    "#### part one - exploring different average environmental, social, governance, and total ESG scores by industry"
   ]
  },
  {
   "cell_type": "code",
   "execution_count": 18,
   "metadata": {},
   "outputs": [
    {
     "name": "stdout",
     "output_type": "stream",
     "text": [
      "                Industry  Average Total ESG Score\n",
      "0    Aerospace & Defense               633.000000\n",
      "1  Aerospace and Defense              1089.700000\n",
      "2               Airlines               838.714286\n",
      "3        Auto Components               950.000000\n",
      "4            Automobiles               938.000000\n",
      "best average ESG scores\n",
      "                    Industry  Average Total ESG Score\n",
      "46                 Utilities              1190.633333\n",
      "44                   Tobacco              1165.000000\n",
      "24  Industrial Conglomerates              1157.000000\n",
      "17                    Energy              1154.764706\n",
      "34                 Packaging              1146.666667\n",
      "worst average ESG scores\n",
      "                         Industry  Average Total ESG Score\n",
      "32                Metals & Mining                    615.0\n",
      "0             Aerospace & Defense                    633.0\n",
      "23  Hotels, Restaurants & Leisure                    746.0\n",
      "26               Leisure Products                    780.0\n",
      "18                        Energy                     819.0\n"
     ]
    }
   ],
   "source": [
    "average_total_score_by_industry = merged_df.groupby('industry')['total_score'].mean().reset_index()\n",
    "average_total_score_by_industry.columns = ['Industry', 'Average Total ESG Score']\n",
    "print(average_total_score_by_industry.head(5))\n",
    "\n",
    "avg_totals = average_total_score_by_industry.sort_values(by = 'Average Total ESG Score', ascending = False)\n",
    "print(\"best average ESG scores\")\n",
    "print(avg_totals.head(5))\n",
    "\n",
    "average_total_score_by_industry = average_total_score_by_industry.sort_values(by = 'Average Total ESG Score', ascending = True)\n",
    "print(\"worst average ESG scores\")\n",
    "print(average_total_score_by_industry.head(5))"
   ]
  },
  {
   "cell_type": "code",
   "execution_count": 19,
   "metadata": {},
   "outputs": [
    {
     "data": {
      "text/plain": [
       "Text(0, 0.5, 'Industry')"
      ]
     },
     "execution_count": 19,
     "metadata": {},
     "output_type": "execute_result"
    },
    {
     "data": {
      "image/png": "[encoded data removed]",
      "text/plain": [
       "<Figure size 1000x800 with 1 Axes>"
      ]
     },
     "metadata": {},
     "output_type": "display_data"
    }
   ],
   "source": [
    "# Bar chart of Toatl ESG score by Industry\n",
    "average_total_score_by_industry = average_total_score_by_industry.sort_values('Average Total ESG Score', ascending=False)\n",
    "\n",
    "# Create the horizontal bar chart\n",
    "plt.figure(figsize=(10, 8))\n",
    "sns.barplot(x='Average Total ESG Score', y='Industry', data=average_total_score_by_industry)\n",
    "\n",
    "# Add labels and title\n",
    "plt.title('Average Total ESG Score by Industry', fontsize=16)\n",
    "plt.xlabel('Average Total ESG Score', fontsize=12)\n",
    "plt.ylabel('Industry', fontsize=12)"
   ]
  },
  {
   "cell_type": "markdown",
   "metadata": {},
   "source": [
    "interestingly (and somewhat predictably) - the industries with the lowest ESG scores are Metals & Mining, Aerospace & Defense, Diversified Consumer Services, Hotels, Restaurants & Leisure, Leisure Products, Auto Components, Airlines, and Automobiles. the industries with the highest ESG scores are Utilities, Tobacco, Industrial Conglomerates, Packaging, and Energy. \n",
    "\n",
    "future steps: sort different industries by just Environmental score, just Social score, and just Governance score to see if these differ significantly."
   ]
  },
  {
   "cell_type": "markdown",
   "metadata": {},
   "source": [
    "#### part two"
   ]
  },
  {
   "cell_type": "code",
   "execution_count": null,
   "metadata": {},
   "outputs": [],
   "source": [
    "#Violin Plot: Governance Score by Environment Level\n",
    "plt.figure(figsize=(12, 6))\n",
    "sns.violinplot(data=esg, x='environment_level', y='governance_score', palette='muted')\n",
    "plt.title('Governance Scores by Environment Level', fontsize=16)\n",
    "plt.xlabel('Environment Level')\n",
    "plt.ylabel('Governance Score')\n",
    "plt.show()"
   ]
  },
  {
   "cell_type": "code",
   "execution_count": null,
   "metadata": {},
   "outputs": [],
   "source": [
    "# Plot the distribution of total_score\n",
    "plt.figure(figsize=(10, 6))\n",
    "sns.histplot(esg['total_score'], kde=True, bins=20)\n",
    "plt.title('Distribution of Total ESG Scores', fontsize=16)\n",
    "plt.xlabel('Total Score')\n",
    "plt.ylabel('Frequency')\n",
    "plt.show()"
   ]
  },
  {
   "cell_type": "code",
   "execution_count": null,
   "metadata": {},
   "outputs": [],
   "source": [
    "#Boxplot of Total Scores by Total Grade\n",
    "plt.figure(figsize=(12, 6))\n",
    "sns.boxplot(data=esg, x='total_grade', y='total_score', palette='Set2')\n",
    "plt.title('Total ESG Scores by Grade', fontsize=16)\n",
    "plt.xlabel('Total Grade')\n",
    "plt.ylabel('Total Score')\n",
    "plt.show()"
   ]
  },
  {
   "cell_type": "code",
   "execution_count": null,
   "metadata": {},
   "outputs": [],
   "source": [
    "#Scatter Plot: Rate of Change vs. Total ESG Score\n",
    "plt.figure(figsize=(10, 6))\n",
    "sns.scatterplot(data=esg, x='total_score', y='Rate of Change (%)', hue='total_grade', palette='coolwarm', s=100)\n",
    "plt.title('Rate of Change (%) vs. Total ESG Score', fontsize=16)\n",
    "plt.xlabel('Total ESG Score')\n",
    "plt.ylabel('Rate of Change (%)')\n",
    "plt.legend(title=\"ESG Grade\", loc='upper right')\n",
    "plt.show()"
   ]
  },
  {
   "cell_type": "code",
   "execution_count": null,
   "metadata": {},
   "outputs": [],
   "source": [
    "#Boxplot: Rate of Change by Environment Grade\n",
    "plt.figure(figsize=(12, 6))\n",
    "sns.boxplot(data=esg, x='environment_grade', y='Rate of Change (%)', palette='Set2')\n",
    "plt.title('Rate of Change (%) by Environmental Grade', fontsize=16)\n",
    "plt.xlabel('Environment Grade')\n",
    "plt.ylabel('Rate of Change (%)')\n",
    "plt.show()\n"
   ]
  },
  {
   "cell_type": "code",
   "execution_count": null,
   "metadata": {},
   "outputs": [],
   "source": [
    "#Violin Plot: Rate of Change by Social Grade\n",
    "plt.figure(figsize=(12, 6))\n",
    "sns.violinplot(data=esg, x='social_grade', y='Rate of Change (%)', palette='muted')\n",
    "plt.title('Rate of Change (%) by Social Grade', fontsize=16)\n",
    "plt.xlabel('Social Grade')\n",
    "plt.ylabel('Rate of Change (%)')\n",
    "plt.show()\n"
   ]
  },
  {
   "cell_type": "code",
   "execution_count": null,
   "metadata": {},
   "outputs": [],
   "source": [
    "correlation_matrix=esg[['environment_score', 'social_score', 'governance_score', 'Rate of Change (%)']].corr()\n",
    "plt.figure(figsize=(8, 6))\n",
    "sns.heatmap(correlation_matrix, annot=True, cmap='coolwarm', linewidths=0.5)\n",
    "plt.title('Correlation Matrix Between ESG Subscores and Stock Price Change')\n",
    "plt.xticks(rotation=45)\n",
    "\n",
    "plt.show()\n",
    "\n",
    "correlation_environment = esg['environment_score'].corr(esg['Rate of Change (%)'])\n",
    "correlation_social = esg['social_score'].corr(esg['Rate of Change (%)'])\n",
    "correlation_governance = esg['governance_score'].corr(esg['Rate of Change (%)'])\n",
    "\n",
    "print(f'Correlation between Environmental Score and Rate of Change (%): {correlation_environment:.3f}')\n",
    "print(f'Correlation between Social Score and Rate of Change (%): {correlation_social:.3f}')\n",
    "print(f'Correlation between Governance Score and Rate of Change (%): {correlation_governance:.3f}')\n"
   ]
  },
  {
   "cell_type": "code",
   "execution_count": null,
   "metadata": {},
   "outputs": [],
   "source": [
    "# Plot histograms for each ESG subscore\n",
    "plt.figure(figsize=(15, 5))\n",
    "\n",
    "plt.subplot(1, 3, 1)\n",
    "plt.hist(esg['environment_score'].dropna(), bins=20, color='skyblue', edgecolor='black')\n",
    "plt.xlabel('Environmental Score')\n",
    "plt.ylabel('Frequency')\n",
    "plt.title('Distribution of Environmental Scores')\n",
    "\n",
    "plt.subplot(1, 3, 2)\n",
    "plt.hist(esg['social_score'].dropna(), bins=20, color='lightgreen', edgecolor='black')\n",
    "plt.xlabel('Social Score')\n",
    "plt.ylabel('Frequency')\n",
    "plt.title('Distribution of Social Scores')\n",
    "\n",
    "plt.subplot(1, 3, 3)\n",
    "plt.hist(esg['governance_score'].dropna(), bins=20, color='lightcoral', edgecolor='black')\n",
    "plt.xlabel('Governance Score')\n",
    "plt.ylabel('Frequency')\n",
    "plt.title('Distribution of Governance Scores')\n",
    "\n",
    "plt.tight_layout()\n",
    "plt.show()\n"
   ]
  },
  {
   "cell_type": "code",
   "execution_count": null,
   "metadata": {},
   "outputs": [],
   "source": [
    "env_scores = relevant_esg['environment_score'].values\n",
    "soc_scores = relevant_esg['social_score'].values\n",
    "gov_scores = relevant_esg['governance_score'].values\n",
    "filtered_companies = relevant_esg['name'].values\n",
    "\n",
    "x = np.arange(len(filtered_companies))\n",
    "\n",
    "plt.figure(figsize=(12, 6))\n",
    "plt.bar(x, env_scores, color='skyblue', label='Environmental Score')\n",
    "plt.bar(x, soc_scores, bottom=env_scores, color='lightgreen', label='Social Score')\n",
    "plt.bar(x, gov_scores, bottom=env_scores + soc_scores, color='lightcoral', label='Governance Score')\n",
    "\n",
    "plt.xticks(x, filtered_companies, rotation=45, ha='right')\n",
    "plt.xlabel('Company')\n",
    "plt.ylabel('Score')\n",
    "plt.title('Stacked Bar Chart of ESG Scores by Company')\n",
    "plt.legend()\n",
    "plt.tight_layout()\n",
    "plt.show()\n"
   ]
  },
  {
   "cell_type": "code",
   "execution_count": null,
   "metadata": {},
   "outputs": [],
   "source": [
    "data = yf.download(list(relevant_esg['ticker']), start='2023-01-01', end='2024-01-01')['Adj Close']\n",
    "        \n",
    "\n",
    "plt.figure(figsize=(14, 8))\n",
    "for ticker in data.columns:\n",
    "    plt.plot(data.index, data[ticker], label=ticker)\n",
    "\n",
    "plt.xlabel('Date')\n",
    "plt.ylabel('Adjusted Closing Price (USD)')\n",
    "plt.title('Stock Price Changes Over Time for Selected Companies')\n",
    "plt.legend(loc='upper left', fontsize='small')\n",
    "plt.xticks(rotation=45)\n",
    "plt.tight_layout()\n",
    "plt.show()"
   ]
  },
  {
   "cell_type": "code",
   "execution_count": null,
   "metadata": {},
   "outputs": [],
   "source": [
    "X = relevant_esg[['environment_score', 'social_score','governance_score']]   # Independent variables\n",
    "y = relevant_esg['Rate of Change (%)']   # Dependent variable\n",
    "\n",
    "model = LinearRegression().fit(X, y)\n",
    "print(f\"Environmental Score Coefficient: {model.coef_[0]}\")\n",
    "print(f\"Social Score Coefficient: {model.coef_[1]}\")\n",
    "print(f\"Governance Score Coefficient: {model.coef_[2]}\")\n",
    "print(f\"Intercept: {model.intercept_}\")\n"
   ]
  },
  {
   "cell_type": "markdown",
   "metadata": {},
   "source": [
    "### Regression Coefficients Interpretation\n",
    "\n",
    "For every 1-unit increase in the Environmental score (assuming all other factors remain constant), the stock return is expected to increase by 0.1079 units. The positive coefficient suggests that higher Environmental scores are associated with better stock performance (or higher returns).\n",
    "\n",
    "For every 1-unit increase in the Social score (with other variables constant), the stock return is expected to decrease by 0.0237 units. The negative coefficient indicates that better Social scores might be associated with lower stock performance, but generally, since the coefficient is so close to 0, Social scores seem to have little impact on stock performance.\n",
    "\n",
    "For every 1-unit increase in the Governance score (with other variables constant), stock return is expected to decrease by 0.0750 units. This negative coefficient suggests that improvements in governance (e.g., stricter regulation or more ethical practices) are associated with slightly lower stock returns. This could imply that governance improvements come at a financial cost.\n"
   ]
  },
  {
   "cell_type": "code",
   "execution_count": null,
   "metadata": {},
   "outputs": [],
   "source": [
    "esg_corr = relevant_esg.loc[:, ['environment_score', 'social_score',\n",
    "                                'governance_score']] \n",
    "print(esg_corr.corr(numeric_only=True))"
   ]
  },
  {
   "cell_type": "code",
   "execution_count": null,
   "metadata": {},
   "outputs": [],
   "source": [
    "print(esg_corr.cov(numeric_only=True))"
   ]
  },
  {
   "cell_type": "markdown",
   "metadata": {},
   "source": [
    "### Correlation and Covariance \n",
    "\n",
    "Let's observe the correlation/covariance between the different ESG scores themselves! All the correlations are positive, meaning that there is positive correlation between the scores (when one increases, the other does too). Governance and Environment have a particularly strong correlation, suggesting that companies who invest in environmental factors likely also care about governance (or perhaps some government regulations align with environmental issues). On the other hand, social factors seem to have just a moderately positive relationship with both the other variables.\n",
    "\n",
    "While the covariance values agree with these claims, it's interesting to note how large the variance is for Environmental Scores (20758.63). This suggests that there is a large spread in environmental performance among the companies we chose, while governance scores are much more consistent."
   ]
  },
  {
   "cell_type": "markdown",
   "metadata": {},
   "source": [
    "---\n",
    "\n",
    "### Questions for Reviewers\n",
    "\n",
    "1. After combining our yfinance and ESG data, do we have large enough datasets to satisfy the complexity requirement for the research question?\n",
    "   \n",
    "2. Any advice recommanded to follow when we trying to take sample from the population? maybe by industry? how many industry to take sample from? maybe stratify to include all ESG grade? (as a reminder - we have one big dataset with 700+ companies and joined data that we did some EDA with, but we also want to include a smaller sample dataset so we can look at some individual companies as well).\n",
    "   \n",
    "3. How many visualization and statistics are recommanded for the final project? (ballpark range would be helpful) Do the visualizations we currently have seem like they're on the right path for the final phases?\n",
    "   \n",
    "4. Regarding the visualizations and chunks we have made for our EDA so far: should we explore these specific visualizations more in depth? OR should we expand our DA to other variables in the datasets that we maybe haven't used yet?"
   ]
  }
 ],
 "metadata": {
  "kernelspec": {
   "display_name": "info2950",
   "language": "python",
   "name": "python3"
  },
  "language_info": {
   "codemirror_mode": {
    "name": "ipython",
    "version": 3
   },
   "file_extension": ".py",
   "mimetype": "text/x-python",
   "name": "python",
   "nbconvert_exporter": "python",
   "pygments_lexer": "ipython3",
   "version": "3.12.3"
  }
 },
 "nbformat": 4,
 "nbformat_minor": 2
}
